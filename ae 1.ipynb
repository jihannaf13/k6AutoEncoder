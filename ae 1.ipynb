{
 "cells": [
  {
   "cell_type": "code",
   "execution_count": 1,
   "metadata": {},
   "outputs": [],
   "source": [
    "import numpy as np\n",
    "import matplotlib.pyplot as plt\n",
    "import tensorflow as tf\n",
    "from keras.models import Model\n",
    "from keras.layers import Input, Activation, Dense\n",
    "from keras.optimizers import Adam\n",
    "from keras.utils.np_utils import to_categorical\n",
    "from keras.datasets import mnist"
   ]
  },
  {
   "cell_type": "code",
   "execution_count": 2,
   "metadata": {},
   "outputs": [
    {
     "name": "stdout",
     "output_type": "stream",
     "text": [
      "Downloading data from https://storage.googleapis.com/tensorflow/tf-keras-datasets/mnist.npz\n",
      "11490434/11490434 [==============================] - 274s 24us/step\n"
     ]
    }
   ],
   "source": [
    "# Data Preparation\n",
    "# Download and Save MNIST Dataset\n",
    "(train_x, train_y), (test_x, test_y) = mnist.load_data()\n",
    "\n",
    "# Scale from 0 to 1\n",
    "train_x = train_x.astype('float32') / 255.\n",
    "test_x = test_x.astype('float32') / 255.\n",
    "\n",
    "# Reshape from 28x28 matrix to 784 vector\n",
    "train_x = np.reshape(train_x, (len(train_x), np.prod(train_x.shape[1:])))\n",
    "test_x = np.reshape(test_x, (len(test_x), np.prod(test_x.shape[1:])))"
   ]
  },
  {
   "cell_type": "code",
   "execution_count": 3,
   "metadata": {},
   "outputs": [
    {
     "name": "stdout",
     "output_type": "stream",
     "text": [
      "Epoch 1/100\n"
     ]
    },
    {
     "name": "stderr",
     "output_type": "stream",
     "text": [
      "c:\\Users\\ANDIKA WAHYU\\AppData\\Local\\Programs\\Python\\Python37\\lib\\site-packages\\keras\\optimizers\\optimizer_v2\\adam.py:114: UserWarning: The `lr` argument is deprecated, use `learning_rate` instead.\n",
      "  super().__init__(name, **kwargs)\n"
     ]
    },
    {
     "name": "stdout",
     "output_type": "stream",
     "text": [
      "235/235 [==============================] - 5s 16ms/step - loss: 0.2723 - val_loss: 0.2129\n",
      "Epoch 2/100\n",
      "235/235 [==============================] - 3s 15ms/step - loss: 0.1831 - val_loss: 0.1615\n",
      "Epoch 3/100\n",
      "235/235 [==============================] - 4s 15ms/step - loss: 0.1539 - val_loss: 0.1462\n",
      "Epoch 4/100\n",
      "235/235 [==============================] - 4s 18ms/step - loss: 0.1422 - val_loss: 0.1374\n",
      "Epoch 5/100\n",
      "235/235 [==============================] - 4s 16ms/step - loss: 0.1346 - val_loss: 0.1308\n",
      "Epoch 6/100\n",
      "235/235 [==============================] - 3s 14ms/step - loss: 0.1291 - val_loss: 0.1257\n",
      "Epoch 7/100\n",
      "235/235 [==============================] - 3s 14ms/step - loss: 0.1252 - val_loss: 0.1230\n",
      "Epoch 8/100\n",
      "235/235 [==============================] - 4s 16ms/step - loss: 0.1223 - val_loss: 0.1205\n",
      "Epoch 9/100\n",
      "235/235 [==============================] - 3s 14ms/step - loss: 0.1201 - val_loss: 0.1185\n",
      "Epoch 10/100\n",
      "235/235 [==============================] - 3s 15ms/step - loss: 0.1181 - val_loss: 0.1169\n",
      "Epoch 11/100\n",
      " 53/235 [=====>........................] - ETA: 2s - loss: 0.1166"
     ]
    }
   ],
   "source": [
    "#Sigmoid & Cross-entropy\n",
    "# Target Dimension\n",
    "TARGET_DIM = 16\n",
    "\n",
    "# Encoder\n",
    "inputs = Input(shape=(784,))\n",
    "h_encode = Dense(256, activation='relu')(inputs)\n",
    "h_encode = Dense(128, activation='relu')(h_encode)\n",
    "h_encode = Dense(64, activation='relu')(h_encode)\n",
    "h_encode = Dense(32, activation='relu')(h_encode)\n",
    "\n",
    "# Coded\n",
    "encoded = Dense(TARGET_DIM, activation='relu')(h_encode)\n",
    "\n",
    "# Decoder\n",
    "h_decode = Dense(32, activation='relu')(encoded)\n",
    "h_decode = Dense(64, activation='relu')(h_decode)\n",
    "h_decode = Dense(128, activation='relu')(h_decode)\n",
    "h_decode = Dense(256, activation='relu')(h_decode)\n",
    "outputs = Dense(784, activation='sigmoid')(h_decode)\n",
    "\n",
    "# Autoencoder Model\n",
    "autoencoder = Model(inputs=inputs, outputs=outputs)\n",
    "\n",
    "# Encoder Model\n",
    "encoder = Model(inputs=inputs, outputs=encoded)\n",
    "\n",
    "# Optimizer / Update Rule\n",
    "adam = Adam(lr=0.001)\n",
    "\n",
    "# Compile the model Binary Crossentropy\n",
    "autoencoder.compile(optimizer=adam, loss='binary_crossentropy')\n",
    "\n",
    "# Train and Save weight\n",
    "autoencoder.fit(train_x, train_x, batch_size=256, epochs=100, verbose=1, shuffle=True, validation_data=(test_x, test_x))\n",
    "autoencoder.save_weights('weights.h5')"
   ]
  },
  {
   "cell_type": "code",
   "execution_count": null,
   "metadata": {},
   "outputs": [
    {
     "name": "stdout",
     "output_type": "stream",
     "text": [
      "1875/1875 [==============================] - 2s 840us/step\n",
      "313/313 [==============================] - 0s 857us/step\n",
      "313/313 [==============================] - 0s 1ms/step\n"
     ]
    },
    {
     "data": {
      "image/png": "[encoded data removed]",
      "text/plain": [
       "<Figure size 1440x288 with 20 Axes>"
      ]
     },
     "metadata": {
      "needs_background": "light"
     },
     "output_type": "display_data"
    }
   ],
   "source": [
    "#Reconstruction Result\n",
    "# Encoded Data\n",
    "encoded_train = encoder.predict(train_x)\n",
    "encoded_test = encoder.predict(test_x)\n",
    "\n",
    "# Reconstructed Data\n",
    "reconstructed = autoencoder.predict(test_x)\n",
    "\n",
    "n = 10\n",
    "plt.figure(figsize=(20, 4))\n",
    "\n",
    "for i in range(n):\n",
    "\tcount = 0\n",
    "\twhile True:\n",
    "\t\tif i == test_y[count]:\n",
    "\t\t\t# Original\n",
    "\t\t\tax = plt.subplot(2, n, i + 1)\n",
    "\t\t\tplt.imshow(test_x[count].reshape(28, 28))\n",
    "\t\t\tplt.gray()\n",
    "\t\t\tax.get_xaxis().set_visible(False)\n",
    "\t\t\tax.get_yaxis().set_visible(False)\n",
    "\n",
    "\t\t\t# Reconstructed\n",
    "\t\t\tax = plt.subplot(2, n, i + 1 + n)\n",
    "\t\t\tplt.imshow(reconstructed[count].reshape(28, 28))\n",
    "\t\t\tplt.gray()\n",
    "\t\t\tax.get_xaxis().set_visible(False)\n",
    "\t\t\tax.get_yaxis().set_visible(False)\n",
    "\t\t\tbreak;\n",
    "\n",
    "\t\tcount += 1\n",
    "plt.show()"
   ]
  },
  {
   "cell_type": "code",
   "execution_count": null,
   "metadata": {},
   "outputs": [
    {
     "name": "stdout",
     "output_type": "stream",
     "text": [
      "Epoch 1/20\n",
      "235/235 [==============================] - 2s 6ms/step - loss: 0.0496 - val_loss: 0.0340\n",
      "Epoch 2/20\n",
      "235/235 [==============================] - 1s 6ms/step - loss: 0.0311 - val_loss: 0.0284\n",
      "Epoch 3/20\n",
      "235/235 [==============================] - 1s 6ms/step - loss: 0.0271 - val_loss: 0.0255\n",
      "Epoch 4/20\n",
      "235/235 [==============================] - 1s 6ms/step - loss: 0.0248 - val_loss: 0.0239\n",
      "Epoch 5/20\n",
      "235/235 [==============================] - 1s 6ms/step - loss: 0.0235 - val_loss: 0.0228\n",
      "Epoch 6/20\n",
      "235/235 [==============================] - 1s 6ms/step - loss: 0.0226 - val_loss: 0.0221\n",
      "Epoch 7/20\n",
      "235/235 [==============================] - 1s 5ms/step - loss: 0.0217 - val_loss: 0.0210\n",
      "Epoch 8/20\n",
      "235/235 [==============================] - 1s 5ms/step - loss: 0.0209 - val_loss: 0.0204\n",
      "Epoch 9/20\n",
      "235/235 [==============================] - 1s 6ms/step - loss: 0.0203 - val_loss: 0.0198\n",
      "Epoch 10/20\n",
      "235/235 [==============================] - 1s 6ms/step - loss: 0.0197 - val_loss: 0.0192\n",
      "Epoch 11/20\n",
      "235/235 [==============================] - 1s 6ms/step - loss: 0.0193 - val_loss: 0.0190\n",
      "Epoch 12/20\n",
      "235/235 [==============================] - 1s 6ms/step - loss: 0.0188 - val_loss: 0.0185\n",
      "Epoch 13/20\n",
      "235/235 [==============================] - 1s 6ms/step - loss: 0.0185 - val_loss: 0.0183\n",
      "Epoch 14/20\n",
      "235/235 [==============================] - 1s 6ms/step - loss: 0.0182 - val_loss: 0.0181\n",
      "Epoch 15/20\n",
      "235/235 [==============================] - 1s 6ms/step - loss: 0.0180 - val_loss: 0.0179\n",
      "Epoch 16/20\n",
      "235/235 [==============================] - 1s 6ms/step - loss: 0.0178 - val_loss: 0.0177\n",
      "Epoch 17/20\n",
      "235/235 [==============================] - 1s 6ms/step - loss: 0.0175 - val_loss: 0.0173\n",
      "Epoch 18/20\n",
      "235/235 [==============================] - 2s 7ms/step - loss: 0.0174 - val_loss: 0.0174\n",
      "Epoch 19/20\n",
      "235/235 [==============================] - 2s 8ms/step - loss: 0.0172 - val_loss: 0.0172\n",
      "Epoch 20/20\n",
      "235/235 [==============================] - 2s 7ms/step - loss: 0.0171 - val_loss: 0.0173\n"
     ]
    }
   ],
   "source": [
    "#Linear & Mean Squared Error\n",
    "TARGET_DIM = 16\n",
    "\n",
    "# Encoder\n",
    "inputs = Input(shape=(784,))\n",
    "h_encode = Dense(256, activation='relu')(inputs)\n",
    "h_encode = Dense(128, activation='relu')(h_encode)\n",
    "h_encode = Dense(64, activation='relu')(h_encode)\n",
    "h_encode = Dense(32, activation='relu')(h_encode)\n",
    "\n",
    "# Coded\n",
    "encoded = Dense(TARGET_DIM, activation='relu')(h_encode)\n",
    "\n",
    "# Decoder\n",
    "h_decode = Dense(32, activation='relu')(encoded)\n",
    "h_decode = Dense(64, activation='relu')(h_decode)\n",
    "h_decode = Dense(128, activation='relu')(h_decode)\n",
    "h_decode = Dense(256, activation='relu')(h_decode)\n",
    "outputs = Dense(784, activation='linear')(h_decode)\n",
    "\n",
    "# Autoencoder Model\n",
    "autoencoder = Model(inputs=inputs, outputs=outputs)\n",
    "\n",
    "# Encoder Model\n",
    "encoder = Model(inputs=inputs, outputs=encoded)\n",
    "\n",
    "# Optimizer / Update Rule\n",
    "adam = Adam(lr=0.001)\n",
    "\n",
    "# Compile the model Binary Crossentropy\n",
    "autoencoder.compile(optimizer=adam, loss='mse')\n",
    "\n",
    "autoencoder.fit(train_x, train_x, batch_size=256, epochs=100, verbose=1, shuffle=True, validation_data=(test_x, test_x))\n",
    "autoencoder.save_weights('weightsLinear.h5')"
   ]
  },
  {
   "cell_type": "code",
   "execution_count": null,
   "metadata": {},
   "outputs": [
    {
     "name": "stdout",
     "output_type": "stream",
     "text": [
      "1875/1875 [==============================] - 2s 898us/step\n",
      "313/313 [==============================] - 0s 819us/step\n",
      "313/313 [==============================] - 0s 1ms/step\n"
     ]
    },
    {
     "data": {
      "image/png": "[encoded data removed]",
      "text/plain": [
       "<Figure size 1440x288 with 20 Axes>"
      ]
     },
     "metadata": {
      "needs_background": "light"
     },
     "output_type": "display_data"
    }
   ],
   "source": [
    "#Reconstruction Result\n",
    "# Encoded Data\n",
    "encoded_train = encoder.predict(train_x)\n",
    "encoded_test = encoder.predict(test_x)\n",
    "\n",
    "# Reconstructed Data\n",
    "reconstructed = autoencoder.predict(test_x)\n",
    "\n",
    "n = 10\n",
    "plt.figure(figsize=(20, 4))\n",
    "\n",
    "for i in range(n):\n",
    "\tcount = 0\n",
    "\twhile True:\n",
    "\t\tif i == test_y[count]:\n",
    "\t\t\t# Original\n",
    "\t\t\tax = plt.subplot(2, n, i + 1)\n",
    "\t\t\tplt.imshow(test_x[count].reshape(28, 28))\n",
    "\t\t\tplt.gray()\n",
    "\t\t\tax.get_xaxis().set_visible(False)\n",
    "\t\t\tax.get_yaxis().set_visible(False)\n",
    "\n",
    "\t\t\t# Reconstructed\n",
    "\t\t\tax = plt.subplot(2, n, i + 1 + n)\n",
    "\t\t\tplt.imshow(reconstructed[count].reshape(28, 28))\n",
    "\t\t\tplt.gray()\n",
    "\t\t\tax.get_xaxis().set_visible(False)\n",
    "\t\t\tax.get_yaxis().set_visible(False)\n",
    "\t\t\tbreak;\n",
    "\n",
    "\t\tcount += 1\n",
    "plt.show()"
   ]
  }
 ],
 "metadata": {
  "kernelspec": {
   "display_name": "Python 3",
   "language": "python",
   "name": "python3"
  },
  "language_info": {
   "codemirror_mode": {
    "name": "ipython",
    "version": 3
   },
   "file_extension": ".py",
   "mimetype": "text/x-python",
   "name": "python",
   "nbconvert_exporter": "python",
   "pygments_lexer": "ipython3",
   "version": "3.7.9"
  },
  "orig_nbformat": 4
 },
 "nbformat": 4,
 "nbformat_minor": 2
}
